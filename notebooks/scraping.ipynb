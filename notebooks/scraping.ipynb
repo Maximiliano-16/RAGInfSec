{
 "cells": [
  {
   "cell_type": "code",
   "execution_count": 1,
   "id": "initial_id",
   "metadata": {
    "jupyter": {
     "is_executing": true
    }
   },
   "outputs": [
    {
     "name": "stdout",
     "output_type": "stream",
     "text": [
      "hello\n"
     ]
    }
   ],
   "source": [
    "print('hello')"
   ]
  },
  {
   "cell_type": "code",
   "execution_count": 1,
   "id": "8d6ef0d50b3dff6e",
   "metadata": {},
   "outputs": [
    {
     "name": "stdout",
     "output_type": "stream",
     "text": [
      "Requirement already satisfied: python-dotenv in d:\\python\\lib\\site-packages (1.0.1)\n"
     ]
    },
    {
     "name": "stderr",
     "output_type": "stream",
     "text": [
      "\n",
      "[notice] A new release of pip is available: 24.3.1 -> 25.0.1\n",
      "[notice] To update, run: python.exe -m pip install --upgrade pip\n"
     ]
    }
   ],
   "source": [
    "!pip install python-dotenv"
   ]
  },
  {
   "cell_type": "code",
   "execution_count": 3,
   "id": "43544a6dc5a6ce03",
   "metadata": {},
   "outputs": [
    {
     "name": "stderr",
     "output_type": "stream",
     "text": [
      "\n",
      "[notice] A new release of pip is available: 23.2.1 -> 25.0.1\n",
      "[notice] To update, run: python.exe -m pip install --upgrade pip\n"
     ]
    }
   ],
   "source": [
    "!pip install gigachain faiss-cpu sentence-transformers rank_bm25 playwright --quiet"
   ]
  },
  {
   "cell_type": "code",
   "execution_count": 6,
   "id": "2197ee6b-1deb-40f0-93b1-9a84e34a21b7",
   "metadata": {},
   "outputs": [
    {
     "name": "stdout",
     "output_type": "stream",
     "text": [
      "Collecting PyMuPDF\n",
      "  Downloading pymupdf-1.25.3-cp39-abi3-win_amd64.whl.metadata (3.4 kB)\n",
      "Downloading pymupdf-1.25.3-cp39-abi3-win_amd64.whl (16.5 MB)\n",
      "   ---------------------------------------- 0.0/16.5 MB ? eta -:--:--\n",
      "    --------------------------------------- 0.3/16.5 MB ? eta -:--:--\n",
      "   ----- ---------------------------------- 2.1/16.5 MB 6.9 MB/s eta 0:00:03\n",
      "   ---------- ----------------------------- 4.5/16.5 MB 9.0 MB/s eta 0:00:02\n",
      "   -------------- ------------------------- 6.0/16.5 MB 9.7 MB/s eta 0:00:02\n",
      "   --------------------- ------------------ 8.9/16.5 MB 9.7 MB/s eta 0:00:01\n",
      "   --------------------------- ------------ 11.3/16.5 MB 10.1 MB/s eta 0:00:01\n",
      "   -------------------------------- ------- 13.6/16.5 MB 10.4 MB/s eta 0:00:01\n",
      "   ---------------------------------------  16.5/16.5 MB 10.7 MB/s eta 0:00:01\n",
      "   ---------------------------------------- 16.5/16.5 MB 10.2 MB/s eta 0:00:00\n",
      "Installing collected packages: PyMuPDF\n",
      "Successfully installed PyMuPDF-1.25.3\n"
     ]
    },
    {
     "name": "stderr",
     "output_type": "stream",
     "text": [
      "\n",
      "[notice] A new release of pip is available: 24.3.1 -> 25.0.1\n",
      "[notice] To update, run: python.exe -m pip install --upgrade pip\n"
     ]
    }
   ],
   "source": [
    "!pip install PyMuPDF"
   ]
  },
  {
   "cell_type": "code",
   "execution_count": 7,
   "id": "ba269ad3-c262-4448-ab0f-07b1f1a1fbff",
   "metadata": {},
   "outputs": [
    {
     "name": "stdout",
     "output_type": "stream",
     "text": [
      "Вводная лекция по \n",
      "дисциплине:\n",
      "«Организационное и \n",
      "правовое обеспечение \n",
      "информационной \n",
      "безопасности»\n",
      "guap.ru\n",
      "Доцент кафедры №33\n",
      "Ерышев Вадим Георгиевич\n",
      "Кандидат технических наук\n",
      "01\n",
      "02\n",
      "Рассмотреть, систематизировать \n",
      "основное организационное \n",
      "обеспечение в области ИБ \n",
      "(концепции, политики, \n",
      "положения, регламенты, \n",
      "инструкции, приказы, планы, \n",
      "отчеты).\n",
      "Рассмотреть, систематизировать \n",
      "основное правовое обеспечение \n",
      "в области ИБ: нормативные \n",
      "правовые акты (федеральные \n",
      "законы, постановления \n",
      "прав\n"
     ]
    }
   ],
   "source": [
    "import fitz  # PyMuPDF\n",
    "\n",
    "def extract_text_from_pdf(pdf_path):\n",
    "    doc = fitz.open(pdf_path)\n",
    "    text = \"\"\n",
    "    for page_num in range(len(doc)):\n",
    "        page = doc.load_page(page_num)\n",
    "        text += page.get_text(\"text\")\n",
    "    return text\n",
    "\n",
    "pdf_path = \"../src/first.pdf\"\n",
    "text = extract_text_from_pdf(pdf_path)\n",
    "print(text[:500])  # Пример первых 500 символов текста\n"
   ]
  },
  {
   "cell_type": "code",
   "execution_count": 8,
   "id": "cf0d9930-b285-40b3-9692-d05b6b3ea4ed",
   "metadata": {},
   "outputs": [
    {
     "name": "stdout",
     "output_type": "stream",
     "text": [
      "43877\n"
     ]
    }
   ],
   "source": [
    "print(len(text))"
   ]
  },
  {
   "cell_type": "markdown",
   "id": "2ce8ce2d-ee17-48cf-9ad3-99e1cb371804",
   "metadata": {},
   "source": [
    " __Очистим текст от спец. символов__"
   ]
  },
  {
   "cell_type": "code",
   "execution_count": 9,
   "id": "3fdf499b-4beb-4265-9d78-8cabe48a0b7c",
   "metadata": {},
   "outputs": [
    {
     "name": "stdout",
     "output_type": "stream",
     "text": [
      "Вводная лекция по дисциплине: «Организационное и правовое обеспечение информационной безопасности» guap.ru Доцент кафедры №33 Ерышев Вадим Георгиевич Кандидат технических наук 01 02 Рассмотреть, систематизировать основное организационное обеспечение в области ИБ (концепции, политики, положения, регламенты, инструкции, приказы, планы, отчеты). Рассмотреть, систематизировать основное правовое обеспечение в области ИБ: нормативные правовые акты (федеральные законы, постановления правительства, указы президента), методические документы регуляторов, международные и национальные стандарты. Цели дисциплины «Организационное и правовое обеспечение информационной безопасности»: guap.ru Слайд 2/47 Вопросы: 1. Основные понятия и определения 2. Нормативные правовые акты, методические документы, международные и национальные стандарты в области ИБ guap.ru Слайд 3/47 Деятельность по обеспечению ИБ Организационное обеспечение Законодательно- правовое обеспечение Программно-техническое обеспечение guap.\n"
     ]
    }
   ],
   "source": [
    "import re\n",
    "\n",
    "def clean_text(text):\n",
    "    # Убираем специальные символы и заменяем множественные пробелы на один\n",
    "    cleaned_text = re.sub(r'\\s+', ' ', text)\n",
    "    # Убираем не алфавитные символы, если это нужно\n",
    "    # cleaned_text = re.sub(r'[^а-яА-Яa-zA-Z0-9,.!? ]', '', cleaned_text)\n",
    "    return cleaned_text.strip()\n",
    "\n",
    "cleaned_text = clean_text(text)\n",
    "print(cleaned_text[:1000])  # Пример первых 1000 символов очищенного текста"
   ]
  },
  {
   "cell_type": "markdown",
   "id": "2817b640-97ad-4217-a83f-793dfddbc673",
   "metadata": {},
   "source": [
    "Разделиим текст на фрагменты"
   ]
  },
  {
   "cell_type": "code",
   "execution_count": 10,
   "id": "08497c6a-c4d1-454c-9fe6-f591f3876d25",
   "metadata": {},
   "outputs": [
    {
     "name": "stdout",
     "output_type": "stream",
     "text": [
      "Количество фрагментов: 68\n",
      "['Вводная лекция по дисциплине: «Организационное и правовое обеспечение информационной безопасности» guap.ru Доцент кафедры №33 Ерышев Вадим Георгиевич Кандидат технических наук 01 02 Рассмотреть, систематизировать основное организационное обеспечение в области ИБ (концепции, политики, положения, регламенты, инструкции, приказы, планы, отчеты) Рассмотреть, систематизировать основное правовое обеспечение в области ИБ: нормативные правовые акты (федеральные законы, постановления правительства, указы президента), методические документы регуляторов, международные и национальные стандарты', 'Цели дисциплины «Организационное и правовое обеспечение информационной безопасности»: guap.ru Слайд 2/47 Вопросы: 1 Основные понятия и определения 2 Нормативные правовые акты, методические документы, международные и национальные стандарты в области ИБ guap.ru Слайд 3/47 Деятельность по обеспечению ИБ Организационное обеспечение Законодательно- правовое обеспечение Программно-техническое обеспечение guap.ru Слайд 4/47 Безопасность информации - состояние защищенности информации, характеризуемое способностью персонала, технических средств и информационных технологий обеспечивать конфиденциальность (т.е']\n"
     ]
    }
   ],
   "source": [
    "def split_text_into_chunks(text, chunk_size=500):\n",
    "    # Разбиваем текст по предложениям или абзацам\n",
    "    chunks = []\n",
    "    sentences = text.split('. ')\n",
    "    current_chunk = []\n",
    "\n",
    "    for sentence in sentences:\n",
    "        current_chunk.append(sentence)\n",
    "        if len(' '.join(current_chunk)) > chunk_size:\n",
    "            chunks.append(' '.join(current_chunk))\n",
    "            current_chunk = []\n",
    "\n",
    "    if current_chunk:\n",
    "        chunks.append(' '.join(current_chunk))\n",
    "    \n",
    "    return chunks\n",
    "\n",
    "chunks = split_text_into_chunks(cleaned_text)\n",
    "print(f\"Количество фрагментов: {len(chunks)}\")\n",
    "print(chunks[:2])  # Пример первых двух фрагментов\n"
   ]
  },
  {
   "cell_type": "markdown",
   "id": "25cb6e5a-11f4-471b-90de-aa1f678d83e5",
   "metadata": {},
   "source": [
    "Преобразуем текст в векторное представление"
   ]
  },
  {
   "cell_type": "code",
   "execution_count": 11,
   "id": "2a97b12e-cc72-4dca-a8a8-e9f10bdd6196",
   "metadata": {},
   "outputs": [],
   "source": [
    "def create_docstore(chunks):\n",
    "        # Создаем хранилище документов с метаданными\n",
    "        from langchain.docstore import InMemoryDocstore\n",
    "        from langchain.schema import Document\n",
    "        \n",
    "        docs = [\n",
    "            Document(\n",
    "                page_content=text,\n",
    "                metadata={'source': f'doc_{i}'}\n",
    "            ) for i, text in enumerate(chunks)\n",
    "        ]\n",
    "        # return InMemoryDocstore(\n",
    "        #     {str(i): doc for i, doc in enumerate(docs)}\n",
    "        # )\n",
    "        return docs"
   ]
  },
  {
   "cell_type": "code",
   "execution_count": 12,
   "id": "84020e3c-83e0-460d-8804-9d98d8661bcc",
   "metadata": {},
   "outputs": [],
   "source": [
    "dock_store = create_docstore(chunks)\n"
   ]
  },
  {
   "cell_type": "code",
   "execution_count": 18,
   "id": "2bb5fdb5-2a60-4f03-8bf3-d8fa52fc604a",
   "metadata": {},
   "outputs": [
    {
     "name": "stdout",
     "output_type": "stream",
     "text": [
      "68\n",
      "page_content='Цели дисциплины «Организационное и правовое обеспечение информационной безопасности»: guap.ru Слайд 2/47 Вопросы: 1 Основные понятия и определения 2 Нормативные правовые акты, методические документы, международные и национальные стандарты в области ИБ guap.ru Слайд 3/47 Деятельность по обеспечению ИБ Организационное обеспечение Законодательно- правовое обеспечение Программно-техническое обеспечение guap.ru Слайд 4/47 Безопасность информации - состояние защищенности информации, характеризуемое способностью персонала, технических средств и информационных технологий обеспечивать конфиденциальность (т.е' metadata={'source': 'doc_1'}\n"
     ]
    }
   ],
   "source": [
    "print(len(dock_store))\n",
    "print(dock_store[1])"
   ]
  },
  {
   "cell_type": "code",
   "execution_count": 4,
   "id": "4b2431ed-5f3c-4930-950b-b5e5440e9d5c",
   "metadata": {},
   "outputs": [],
   "source": [
    "from langchain_community.llms import GigaChat\n",
    "from langchain_community.vectorstores import FAISS\n",
    "from langchain.chains import create_retrieval_chain\n",
    "from langchain.chains.combine_documents import create_stuff_documents_chain\n",
    "from langchain_core.prompts import ChatPromptTemplate"
   ]
  },
  {
   "cell_type": "code",
   "execution_count": 2,
   "id": "2b2eae6f-9878-4a69-a3e2-c2ba981a2fa0",
   "metadata": {},
   "outputs": [
    {
     "data": {
      "text/plain": [
       "True"
      ]
     },
     "execution_count": 2,
     "metadata": {},
     "output_type": "execute_result"
    }
   ],
   "source": [
    "from dotenv import load_dotenv\n",
    "import os\n",
    "\n",
    "# Загрузить переменные из файла .env\n",
    "load_dotenv()"
   ]
  },
  {
   "cell_type": "code",
   "execution_count": 6,
   "id": "3b8473f2-26df-44b2-9959-67059e547ab0",
   "metadata": {},
   "outputs": [],
   "source": [
    "llm = GigaChat(credentials='MY_SECRET_TOKEN',\n",
    "               model='GigaChat:latest',\n",
    "               verify_ssl_certs=False,\n",
    "               profanity_check=False)"
   ]
  },
  {
   "cell_type": "code",
   "execution_count": 23,
   "id": "f68a5e9d-5b54-4666-b05f-d21029cd4b77",
   "metadata": {},
   "outputs": [
    {
     "data": {
      "text/plain": [
       "'Привет! Я – GigaChat, нейросетевая модель искусственного интеллекта от компании Сбер. Могу помочь тебе с вопросами, задачами или просто поболтать. Чем могу быть полезен?'"
      ]
     },
     "execution_count": 23,
     "metadata": {},
     "output_type": "execute_result"
    }
   ],
   "source": [
    "from langchain_core.messages import HumanMessage\n",
    "\n",
    "response = llm.invoke([HumanMessage(content=\"Привет, ты кто?\")])\n",
    "response"
   ]
  },
  {
   "cell_type": "code",
   "execution_count": 20,
   "id": "2bf9be70-e83f-4b27-b5a3-bf297d1ab4ce",
   "metadata": {},
   "outputs": [
    {
     "name": "stdout",
     "output_type": "stream",
     "text": [
      "Collecting gigachat\n",
      "  Downloading gigachat-0.1.38-py3-none-any.whl.metadata (14 kB)\n",
      "Requirement already satisfied: httpx<=0.27.2 in d:\\python\\lib\\site-packages (from gigachat) (0.27.0)\n",
      "Requirement already satisfied: pydantic>=1 in d:\\python\\lib\\site-packages (from gigachat) (2.9.2)\n",
      "Requirement already satisfied: anyio in d:\\python\\lib\\site-packages (from httpx<=0.27.2->gigachat) (4.4.0)\n",
      "Requirement already satisfied: certifi in d:\\python\\lib\\site-packages (from httpx<=0.27.2->gigachat) (2024.6.2)\n",
      "Requirement already satisfied: httpcore==1.* in d:\\python\\lib\\site-packages (from httpx<=0.27.2->gigachat) (1.0.5)\n",
      "Requirement already satisfied: idna in d:\\python\\lib\\site-packages (from httpx<=0.27.2->gigachat) (3.7)\n",
      "Requirement already satisfied: sniffio in d:\\python\\lib\\site-packages (from httpx<=0.27.2->gigachat) (1.3.1)\n",
      "Requirement already satisfied: h11<0.15,>=0.13 in d:\\python\\lib\\site-packages (from httpcore==1.*->httpx<=0.27.2->gigachat) (0.14.0)\n",
      "Requirement already satisfied: annotated-types>=0.6.0 in d:\\python\\lib\\site-packages (from pydantic>=1->gigachat) (0.7.0)\n",
      "Requirement already satisfied: pydantic-core==2.23.4 in d:\\python\\lib\\site-packages (from pydantic>=1->gigachat) (2.23.4)\n",
      "Requirement already satisfied: typing-extensions>=4.6.1 in d:\\python\\lib\\site-packages (from pydantic>=1->gigachat) (4.12.2)\n",
      "Downloading gigachat-0.1.38-py3-none-any.whl (62 kB)\n",
      "Installing collected packages: gigachat\n",
      "Successfully installed gigachat-0.1.38\n"
     ]
    },
    {
     "name": "stderr",
     "output_type": "stream",
     "text": [
      "\n",
      "[notice] A new release of pip is available: 24.3.1 -> 25.0.1\n",
      "[notice] To update, run: python.exe -m pip install --upgrade pip\n"
     ]
    }
   ],
   "source": [
    "!pip install gigachat"
   ]
  },
  {
   "cell_type": "code",
   "execution_count": 27,
   "id": "166c6903-b561-410d-8a4a-655a2202ce23",
   "metadata": {},
   "outputs": [
    {
     "name": "stdout",
     "output_type": "stream",
     "text": [
      "Collecting sentence-transformers"
     ]
    },
    {
     "name": "stderr",
     "output_type": "stream",
     "text": [
      "\n",
      "[notice] A new release of pip is available: 24.3.1 -> 25.0.1\n",
      "[notice] To update, run: python.exe -m pip install --upgrade pip\n"
     ]
    },
    {
     "name": "stdout",
     "output_type": "stream",
     "text": [
      "\n",
      "  Downloading sentence_transformers-3.4.1-py3-none-any.whl.metadata (10 kB)\n",
      "Collecting transformers<5.0.0,>=4.41.0 (from sentence-transformers)\n",
      "  Downloading transformers-4.49.0-py3-none-any.whl.metadata (44 kB)\n",
      "Requirement already satisfied: tqdm in d:\\python\\lib\\site-packages (from sentence-transformers) (4.66.6)\n",
      "Requirement already satisfied: torch>=1.11.0 in d:\\python\\lib\\site-packages (from sentence-transformers) (2.5.1)\n",
      "Requirement already satisfied: scikit-learn in d:\\python\\lib\\site-packages (from sentence-transformers) (1.5.1)\n",
      "Requirement already satisfied: scipy in d:\\python\\lib\\site-packages (from sentence-transformers) (1.14.0)\n",
      "Collecting huggingface-hub>=0.20.0 (from sentence-transformers)\n",
      "  Downloading huggingface_hub-0.29.0-py3-none-any.whl.metadata (13 kB)\n",
      "Requirement already satisfied: Pillow in d:\\python\\lib\\site-packages (from sentence-transformers) (10.4.0)\n",
      "Requirement already satisfied: filelock in d:\\python\\lib\\site-packages (from huggingface-hub>=0.20.0->sentence-transformers) (3.15.4)\n",
      "Requirement already satisfied: fsspec>=2023.5.0 in d:\\python\\lib\\site-packages (from huggingface-hub>=0.20.0->sentence-transformers) (2024.6.0)\n",
      "Requirement already satisfied: packaging>=20.9 in d:\\python\\lib\\site-packages (from huggingface-hub>=0.20.0->sentence-transformers) (24.1)\n",
      "Requirement already satisfied: pyyaml>=5.1 in d:\\python\\lib\\site-packages (from huggingface-hub>=0.20.0->sentence-transformers) (6.0.1)\n",
      "Requirement already satisfied: requests in d:\\python\\lib\\site-packages (from huggingface-hub>=0.20.0->sentence-transformers) (2.32.3)\n",
      "Requirement already satisfied: typing-extensions>=3.7.4.3 in d:\\python\\lib\\site-packages (from huggingface-hub>=0.20.0->sentence-transformers) (4.12.2)\n",
      "Requirement already satisfied: networkx in d:\\python\\lib\\site-packages (from torch>=1.11.0->sentence-transformers) (3.3)\n",
      "Requirement already satisfied: jinja2 in d:\\python\\lib\\site-packages (from torch>=1.11.0->sentence-transformers) (3.1.4)\n",
      "Requirement already satisfied: setuptools in d:\\python\\lib\\site-packages (from torch>=1.11.0->sentence-transformers) (70.1.0)\n",
      "Requirement already satisfied: sympy==1.13.1 in d:\\python\\lib\\site-packages (from torch>=1.11.0->sentence-transformers) (1.13.1)\n",
      "Requirement already satisfied: mpmath<1.4,>=1.1.0 in d:\\python\\lib\\site-packages (from sympy==1.13.1->torch>=1.11.0->sentence-transformers) (1.3.0)\n",
      "Requirement already satisfied: colorama in d:\\python\\lib\\site-packages (from tqdm->sentence-transformers) (0.4.6)\n",
      "Requirement already satisfied: numpy>=1.17 in d:\\python\\lib\\site-packages (from transformers<5.0.0,>=4.41.0->sentence-transformers) (2.0.2)\n",
      "Collecting regex!=2019.12.17 (from transformers<5.0.0,>=4.41.0->sentence-transformers)\n",
      "  Downloading regex-2024.11.6-cp312-cp312-win_amd64.whl.metadata (41 kB)\n",
      "Collecting tokenizers<0.22,>=0.21 (from transformers<5.0.0,>=4.41.0->sentence-transformers)\n",
      "  Downloading tokenizers-0.21.0-cp39-abi3-win_amd64.whl.metadata (6.9 kB)\n",
      "Collecting safetensors>=0.4.1 (from transformers<5.0.0,>=4.41.0->sentence-transformers)\n",
      "  Downloading safetensors-0.5.2-cp38-abi3-win_amd64.whl.metadata (3.9 kB)\n",
      "Requirement already satisfied: joblib>=1.2.0 in d:\\python\\lib\\site-packages (from scikit-learn->sentence-transformers) (1.4.2)\n",
      "Requirement already satisfied: threadpoolctl>=3.1.0 in d:\\python\\lib\\site-packages (from scikit-learn->sentence-transformers) (3.5.0)\n",
      "Requirement already satisfied: MarkupSafe>=2.0 in d:\\python\\lib\\site-packages (from jinja2->torch>=1.11.0->sentence-transformers) (2.1.5)\n",
      "Requirement already satisfied: charset-normalizer<4,>=2 in d:\\python\\lib\\site-packages (from requests->huggingface-hub>=0.20.0->sentence-transformers) (3.3.2)\n",
      "Requirement already satisfied: idna<4,>=2.5 in d:\\python\\lib\\site-packages (from requests->huggingface-hub>=0.20.0->sentence-transformers) (3.7)\n",
      "Requirement already satisfied: urllib3<3,>=1.21.1 in d:\\python\\lib\\site-packages (from requests->huggingface-hub>=0.20.0->sentence-transformers) (2.2.2)\n",
      "Requirement already satisfied: certifi>=2017.4.17 in d:\\python\\lib\\site-packages (from requests->huggingface-hub>=0.20.0->sentence-transformers) (2024.6.2)\n",
      "Downloading sentence_transformers-3.4.1-py3-none-any.whl (275 kB)\n",
      "Downloading huggingface_hub-0.29.0-py3-none-any.whl (468 kB)\n",
      "Downloading transformers-4.49.0-py3-none-any.whl (10.0 MB)\n",
      "   ---------------------------------------- 0.0/10.0 MB ? eta -:--:--\n",
      "   -------- ------------------------------- 2.1/10.0 MB 9.8 MB/s eta 0:00:01\n",
      "   ---------- ----------------------------- 2.6/10.0 MB 5.8 MB/s eta 0:00:02\n",
      "   ---------------------- ----------------- 5.5/10.0 MB 9.1 MB/s eta 0:00:01\n",
      "   ----------------------------- ---------- 7.3/10.0 MB 9.1 MB/s eta 0:00:01\n",
      "   ------------------------------------- -- 9.4/10.0 MB 9.3 MB/s eta 0:00:01\n",
      "   ---------------------------------------- 10.0/10.0 MB 8.5 MB/s eta 0:00:00\n",
      "Downloading regex-2024.11.6-cp312-cp312-win_amd64.whl (273 kB)\n",
      "Downloading safetensors-0.5.2-cp38-abi3-win_amd64.whl (303 kB)\n",
      "Downloading tokenizers-0.21.0-cp39-abi3-win_amd64.whl (2.4 MB)\n",
      "   ---------------------------------------- 0.0/2.4 MB ? eta -:--:--\n",
      "   --------------------- ------------------ 1.3/2.4 MB 6.7 MB/s eta 0:00:01\n",
      "   ---------------------------------------- 2.4/2.4 MB 6.2 MB/s eta 0:00:00\n",
      "Installing collected packages: safetensors, regex, huggingface-hub, tokenizers, transformers, sentence-transformers\n",
      "Successfully installed huggingface-hub-0.29.0 regex-2024.11.6 safetensors-0.5.2 sentence-transformers-3.4.1 tokenizers-0.21.0 transformers-4.49.0\n"
     ]
    }
   ],
   "source": [
    "!pip install sentence-transformers"
   ]
  },
  {
   "cell_type": "code",
   "execution_count": 29,
   "id": "9c13a770-4840-410a-bd8c-218b036f8292",
   "metadata": {},
   "outputs": [
    {
     "name": "stdout",
     "output_type": "stream",
     "text": [
      "Collecting faiss-cpu\n",
      "  Downloading faiss_cpu-1.10.0-cp312-cp312-win_amd64.whl.metadata (4.5 kB)\n",
      "Requirement already satisfied: numpy<3.0,>=1.25.0 in d:\\python\\lib\\site-packages (from faiss-cpu) (2.0.2)\n",
      "Requirement already satisfied: packaging in d:\\python\\lib\\site-packages (from faiss-cpu) (24.1)\n",
      "Downloading faiss_cpu-1.10.0-cp312-cp312-win_amd64.whl (13.7 MB)\n",
      "   ---------------------------------------- 0.0/13.7 MB ? eta -:--:--\n",
      "    --------------------------------------- 0.3/13.7 MB ? eta -:--:--\n",
      "   --- ------------------------------------ 1.0/13.7 MB 4.2 MB/s eta 0:00:04\n",
      "   ------ --------------------------------- 2.4/13.7 MB 4.8 MB/s eta 0:00:03\n",
      "   -------- ------------------------------- 2.9/13.7 MB 5.1 MB/s eta 0:00:03\n",
      "   ------------ --------------------------- 4.2/13.7 MB 4.4 MB/s eta 0:00:03\n",
      "   ---------------- ----------------------- 5.8/13.7 MB 5.0 MB/s eta 0:00:02\n",
      "   --------------------- ------------------ 7.3/13.7 MB 5.4 MB/s eta 0:00:02\n",
      "   -------------------------- ------------- 8.9/13.7 MB 5.7 MB/s eta 0:00:01\n",
      "   -------------------------------- ------- 11.0/13.7 MB 6.2 MB/s eta 0:00:01\n",
      "   -------------------------------------- - 13.1/13.7 MB 6.6 MB/s eta 0:00:01\n",
      "   ---------------------------------------- 13.7/13.7 MB 6.5 MB/s eta 0:00:00\n",
      "Installing collected packages: faiss-cpu\n",
      "Successfully installed faiss-cpu-1.10.0\n"
     ]
    },
    {
     "name": "stderr",
     "output_type": "stream",
     "text": [
      "\n",
      "[notice] A new release of pip is available: 24.3.1 -> 25.0.1\n",
      "[notice] To update, run: python.exe -m pip install --upgrade pip\n"
     ]
    }
   ],
   "source": [
    "!pip install faiss-cpu"
   ]
  },
  {
   "cell_type": "code",
   "execution_count": 25,
   "id": "dd7dd842-2646-498d-8b12-44acfcb1fecd",
   "metadata": {},
   "outputs": [
    {
     "name": "stderr",
     "output_type": "stream",
     "text": [
      "D:\\Python\\Lib\\site-packages\\pydantic\\_internal\\_fields.py:132: UserWarning: Field \"model_name\" in HuggingFaceInferenceAPIEmbeddings has conflict with protected namespace \"model_\".\n",
      "\n",
      "You may be able to resolve this warning by setting `model_config['protected_namespaces'] = ()`.\n",
      "  warnings.warn(\n"
     ]
    }
   ],
   "source": [
    "from langchain.embeddings import HuggingFaceEmbeddings\n",
    "# from langchain.retrievers import BM25Retriever #, EnsembleRetriever\n",
    "from langchain.vectorstores.faiss import FAISS\n"
   ]
  },
  {
   "cell_type": "code",
   "execution_count": 30,
   "id": "9fe063fb-3fee-435f-a490-826e5663b42e",
   "metadata": {},
   "outputs": [
    {
     "name": "stdout",
     "output_type": "stream",
     "text": [
      "CPU times: total: 1min 16s\n",
      "Wall time: 16.9 s\n"
     ]
    }
   ],
   "source": [
    "%%time\n",
    "model_name = \"sentence-transformers/paraphrase-multilingual-mpnet-base-v2\"\n",
    "model_kwargs = {'device': 'cpu'}\n",
    "encode_kwargs = {'normalize_embeddings': False}\n",
    "embedding = HuggingFaceEmbeddings(model_name=model_name,\n",
    "                                  model_kwargs=model_kwargs,\n",
    "                                  encode_kwargs=encode_kwargs)\n",
    "\n",
    "vector_store = FAISS.from_documents(dock_store, embedding=embedding)"
   ]
  },
  {
   "cell_type": "code",
   "execution_count": 31,
   "id": "2c91690e-4bc2-435e-9209-63fb2a9fff5f",
   "metadata": {},
   "outputs": [],
   "source": [
    "embedding_retriever = vector_store.as_retriever(search_kwargs={\"k\": 5})"
   ]
  },
  {
   "cell_type": "code",
   "execution_count": 32,
   "id": "1f45a83f-7cb8-4283-92c9-d38f7e8f3383",
   "metadata": {},
   "outputs": [],
   "source": [
    "# llm = GigaChat(credentials='YTUxZDMzOGMtNzZhOC00NTk5LThhNzQtZDZiMDc1ZGE3ZmUwOjEzYTVlM2IyLTUxZTEtNGY0Mi04OTE2LTE3MjZjMzAwNzlhZA==',\n",
    "#               model='GigaChat:latest',\n",
    "#                verify_ssl_certs=False,\n",
    "#                profanity_check=False)\n",
    "prompt = ChatPromptTemplate.from_template('''Ответь на вопрос пользователя. \\\n",
    "Используй при этом только информацию из контекста. Если в контексте нет \\\n",
    "информации для ответа, сообщи об этом пользователю.\n",
    "Контекст: {context}\n",
    "Вопрос: {input}\n",
    "Ответ:'''\n",
    ")"
   ]
  },
  {
   "cell_type": "code",
   "execution_count": 33,
   "id": "da640759-647b-41cc-b389-88e074b8c1eb",
   "metadata": {},
   "outputs": [],
   "source": [
    "document_chain = create_stuff_documents_chain(\n",
    "    llm=llm,\n",
    "    prompt=prompt\n",
    ")"
   ]
  },
  {
   "cell_type": "code",
   "execution_count": 34,
   "id": "15f90424-0a1a-4659-837c-1eab41d7f446",
   "metadata": {},
   "outputs": [],
   "source": [
    "retrieval_chain = create_retrieval_chain(embedding_retriever, document_chain)"
   ]
  },
  {
   "cell_type": "code",
   "execution_count": 42,
   "id": "caef7f0d-f310-4224-b267-81e878fc1300",
   "metadata": {},
   "outputs": [],
   "source": [
    "q1 = 'Расскажи основную информацию из постановлений правительства РФ?'   \n",
    "\n",
    "resp1 = retrieval_chain.invoke(\n",
    "    {'input': q1}\n",
    ")\n"
   ]
  },
  {
   "cell_type": "code",
   "execution_count": 43,
   "id": "cca8f292-9e49-4f8e-8cd4-5714ac1e4901",
   "metadata": {},
   "outputs": [
    {
     "data": {
      "text/plain": [
       "{'input': 'Расскажи основную информацию из постановлений правительства РФ?',\n",
       " 'context': [Document(metadata={'source': 'doc_65'}, page_content='‒ Указ Президента Российской Федерации от 22 мая 2015 г №260 «О некоторых вопросах информационной безопасности Российской Федерации» ‒ Указ Президента Российской Федерации от 17.03.2008 г №351 «О мерах по обеспечению информационной безопасности Российской Федерации при использовании информационно- телекоммуникационных сетей международного информационного обмена» ‒ Указ Президента Российской Федерации от 6 марта 1997 г №188 «Об утверждении перечня сведений конфиденциального характера» ‒ Постановление Правительства Российской Федерации от 3 ноября 1994 г'),\n",
       "  Document(metadata={'source': 'doc_15'}, page_content='- Доктрина информационной безопасности РФ Утверждена указом Президентом РФ от 5.12.2016 г №646 - Указ Президента РФ от 11.08.2003 №960 \"Вопросы Федеральной службы безопасности РФ» - Указ Президента РФ от 6.10.2004 г № 1286 «Вопросы Межведомственной комиссии по защите государственной тайны» - Указ Президента РФ от 22.05.2015 №260 \"О некоторых вопросах информационной безопасности РФ» guap.ru Указы президента РФ Слайд 18/47 - Постановление Правительства РФ от 21.11.2011 №957 «Об организации лицензирования отдельных видов деятельности» - Постановление Правительства РФ от 26.06.1995 №608 «О сертификации средств защиты информации» - Постановление Правительства РФ от 03.02.2012 № 79 «О лицензировании деятельности по технической защите конфиденциальной информации» (вместе с «Положением о лицензировании деятельности по технической защите конфиденциальной информации») - Постановление Правительства РФ от 03.03.2012 № 171 «О лицензировании деятельности по разработке и производству средств защиты конфиденциальной информации\" (вместе с «Положением о лицензировании деятельности по разработке и производству средств защиты конфиденциальной информации») - Постановление Правительства РФ от 15.04.1995 №333 «Об утверждении Положения о лицензировании деятельности предприятий, учреждений и организаций по проведению работ, связанных с использованием сведений, составляющих государственную тайну, созданием средств защиты информации, а также с осуществлением мероприятий и (или) оказанием услуг по защите государственной тайны» guap.ru Постановление Правительства РФ Слайд 19/47 - Постановление правительства РФ от 16 апреля 2012 № 313 «Об утверждении положения о лицензировании деятельности по разработке, производству, распространению шифровальных (криптографических) средств, информационных систем и телекоммуникационных систем, защищенных с использованием шифровальных (криптографических) средств, выполнению работ, оказанию услуг в области шифрования информации, техническому обслуживанию шифровальных (криптографических) средств, информационных систем и телекоммуникационных систем, защищенных с использованием шифровальных (криптографических) средств (за исключением случая, если техническое обслуживание шифровальных (криптографических) средств, информационных систем и телекоммуникационных систем, защищенных с использованием шифровальных (криптографических) средств, осуществляется для обеспечения собственных нужд юридического лица или индивидуального предпринимателя)»'),\n",
       "  Document(metadata={'source': 'doc_66'}, page_content='№1233 «Об утверждении положения о порядке обращения со служебной информацией ограниченного распространения в федеральных органах исполнительной власти» guap.ru Слайд 45/47 Акты Правительства РФ Положение о государственной системе защиты информации в Российской Федерации от иностранных технических разведок и от ее утечки по техническим каналам, утверждено постановлением Совета Министров - Правительства Российской Федерации от 15 сентября 1993 г № 912-51 Ведомственные акты Специальными требованиями и рекомендациями по технической защите конфиденциальной информации (СТР-К), утвержденными приказом Гостехкомиссии России от 30 августа 2002 г'),\n",
       "  Document(metadata={'source': 'doc_63'}, page_content='№ 378 Приказ ФСБ России от 21 февраля 2008 г № 149/6/6-622 guap.ru Нормативно-методические документы ФСБ России Слайд 43/47 Основные нормативные правовые акты в области защиты коммерческой тайны и иной конфиденциальной информации ‒ Федеральный закон от 27 июля 2006 г №149-ФЗ «Об информации, информационных технологиях и о защите информации» ‒ Федеральный закон от 29 июля 2004 г №98-ФЗ «О коммерческой тайне» ‒ Федеральный закон от 7 июля 2003 г №126-ФЗ «О связи» ‒ Федеральный закон от 27 декабря 2002 г'),\n",
       "  Document(metadata={'source': 'doc_29'}, page_content='- Приказ ФСТЭК России от 6 декабря 2017 г №227 «Об утверждении Порядка ведения реестра значимых объектов критической информационной инфраструктуры Российской Федерации» - Приказ ФСТЭК России от 23 марта 2017 г №49., «О внесении изменений в Состав и содержание организационных и технических мер по обеспечению безопасности персональных данных при их обработке в информационных системах персональных данных», утвержденные приказом Федеральной службы по техническому и экспортному контролю от 18 февраля 2013 г')],\n",
       " 'answer': 'В предоставленном контексте содержатся следующие постановления Правительства РФ, касающиеся вопросов информационной безопасности и защиты конфиденциальной информации:\\n\\n1. **Постановление Правительства РФ от 21.11.2011 №957** – Об организации лицензирования отдельных видов деятельности.\\n   \\n2. **Постановление Правительства РФ от 26.06.1995 №608** – О сертификации средств защиты информации.\\n\\n3. **Постановление Правительства РФ от 03.02.2012 № 79** – О лицензировании деятельности по технической защите конфиденциальной информации (вместе с «Положением о лицензировании деятельности по технической защите конфиденциальной информации»).\\n\\n4. **Постановление Правительства РФ от 03.03.2012 № 171** – О лицензировании деятельности по разработке и производству средств защиты конфиденциальной информации (вместе с «Положением о лицензировании деятельности по разработке и производству средств защиты конфиденциальной информации»).\\n\\n5. **Постановление Правительства РФ от 15.04.1995 №333** – Об утверждении Положения о лицензировании деятельности предприятий, учреждений и организаций по проведению работ, связанных с использованием сведений, составляющих государственную тайну, созданием средств защиты информации, а также с осуществлением мероприятий и (или) оказанием услуг по защите государственной тайны.\\n\\n6. **Постановление Правительства РФ от 16.04.2012 № 313** – Об утверждении Положения о лицензировании деятельности по разработке, производству, распространению шифровальных (криптографических) средств, информационных систем и телекоммуникационных систем, защищенных с использованием шифровальных (криптографических) средств, выполнению работ, оказанию услуг в области шифрования информации, техническому обслуживанию шифровальных (криптографических) средств, информационных систем и телекоммуникационных систем, защищенных с использованием шифровальных (криптографических) средств.\\n\\n7. **Постановление Правительства РФ от 28.10.2007 № 703** – О лицензировании деятельности по технической защите конфиденциальной информации.\\n\\nЭти постановления регулируют вопросы лицензирования различных видов деятельности, связанных с защитой информации, включая разработку, производство и распространение криптографических средств, защиту конфиденциальной информации, сертификацию средств защиты информации и другие аспекты информационной безопасности.'}"
      ]
     },
     "execution_count": 43,
     "metadata": {},
     "output_type": "execute_result"
    }
   ],
   "source": [
    "resp1"
   ]
  },
  {
   "cell_type": "code",
   "execution_count": 39,
   "id": "6e8f39d4-a6a0-462f-9d71-420e30b4a635",
   "metadata": {},
   "outputs": [
    {
     "name": "stdout",
     "output_type": "stream",
     "text": [
      "Векторы фрагментов: (68, 384)\n"
     ]
    }
   ],
   "source": [
    "from sentence_transformers import SentenceTransformer\n",
    "\n",
    "# Загрузка модели для эмбеддингов\n",
    "model = SentenceTransformer('sentence-transformers/all-MiniLM-L6-v2')\n",
    "\n",
    "# Преобразуем каждый фрагмент в вектор\n",
    "chunk_embeddings = model.encode(chunks)\n",
    "# embeddings = model.encode(text_chunks, convert_to_numpy=True)\n",
    "\n",
    "print(f\"Векторы фрагментов: {chunk_embeddings.shape}\")"
   ]
  },
  {
   "cell_type": "code",
   "execution_count": null,
   "id": "9ba61739-f6a1-41e7-847d-68e6db136837",
   "metadata": {},
   "outputs": [],
   "source": []
  },
  {
   "cell_type": "code",
   "execution_count": 42,
   "id": "07a8b40d-a885-4300-963a-e2fdb4815b75",
   "metadata": {},
   "outputs": [],
   "source": [
    "dimension = chunk_embeddings.shape[1]  # Размерность векторов (384 для all-MiniLM-L6-v2)"
   ]
  },
  {
   "cell_type": "code",
   "execution_count": 43,
   "id": "c4175dd8-6534-429e-b956-73be752a02d7",
   "metadata": {},
   "outputs": [],
   "source": [
    "# Создаем плоский индекс (точный поиск)\n",
    "index = faiss.IndexFlatL2(dimension)"
   ]
  },
  {
   "cell_type": "code",
   "execution_count": 45,
   "id": "ab7362ec-309b-4f54-97be-ec448e25a06b",
   "metadata": {},
   "outputs": [],
   "source": [
    "# Добавляем эмбеддинги в индекс\n",
    "index.add(chunk_embeddings)"
   ]
  },
  {
   "cell_type": "code",
   "execution_count": 46,
   "id": "c2202a7f-0508-4548-8d3c-b393236dea89",
   "metadata": {},
   "outputs": [],
   "source": [
    "# Сохранить индекс\n",
    "faiss.write_index(index, \"my_faiss_index.index\")"
   ]
  },
  {
   "cell_type": "code",
   "execution_count": 56,
   "id": "4ba0e26d-b0e9-405f-a3d0-32f3d5d8f5af",
   "metadata": {},
   "outputs": [],
   "source": []
  },
  {
   "cell_type": "code",
   "execution_count": 7,
   "id": "52dd592f-2287-4b7d-a66e-bbc2018b9d7f",
   "metadata": {},
   "outputs": [],
   "source": [
    "llm = GigaChat(credentials='MY_SECRET_TOKEN',\n",
    "              model='GigaChat:latest',\n",
    "               verify_ssl_certs=False,\n",
    "               profanity_check=False)\n",
    "\n"
   ]
  },
  {
   "cell_type": "code",
   "execution_count": null,
   "id": "2ff8487c-5e34-4fe2-9d20-bf0eb9a5e642",
   "metadata": {},
   "outputs": [],
   "source": [
    "vectore_store = FAISS(embedding_function=embeddings, index=index, docstore=self._create_docstore()).as_retriever(search_kwargs={'k': 3})"
   ]
  },
  {
   "cell_type": "code",
   "execution_count": 60,
   "id": "30d98c57-6ca8-4791-b1e5-f3e115ca94c6",
   "metadata": {},
   "outputs": [
    {
     "ename": "AttributeError",
     "evalue": "'IndexFlatL2' object has no attribute 'as_retriever'",
     "output_type": "error",
     "traceback": [
      "\u001b[1;31m---------------------------------------------------------------------------\u001b[0m",
      "\u001b[1;31mAttributeError\u001b[0m                            Traceback (most recent call last)",
      "Cell \u001b[1;32mIn[60], line 16\u001b[0m\n\u001b[0;32m      1\u001b[0m prompt \u001b[38;5;241m=\u001b[39m ChatPromptTemplate\u001b[38;5;241m.\u001b[39mfrom_template(  \n\u001b[0;32m      2\u001b[0m \u001b[38;5;250m    \u001b[39m\u001b[38;5;124;03m\"\"\"\u001b[39;00m\n\u001b[0;32m      3\u001b[0m \u001b[38;5;124;03m        Ты - ассистент, отвечающий на вопросы на основе предоставленного контекста. \u001b[39;00m\n\u001b[1;32m   (...)\u001b[0m\n\u001b[0;32m     12\u001b[0m \u001b[38;5;124;03m    \"\"\"\u001b[39;00m\n\u001b[0;32m     13\u001b[0m )\n\u001b[0;32m     15\u001b[0m document_chain \u001b[38;5;241m=\u001b[39m create_stuff_documents_chain(llm, prompt)\n\u001b[1;32m---> 16\u001b[0m retriever \u001b[38;5;241m=\u001b[39m \u001b[43mindex\u001b[49m\u001b[38;5;241;43m.\u001b[39;49m\u001b[43mas_retriever\u001b[49m()  \u001b[38;5;66;03m# Ваш FAISS retriever\u001b[39;00m\n",
      "\u001b[1;31mAttributeError\u001b[0m: 'IndexFlatL2' object has no attribute 'as_retriever'"
     ]
    }
   ],
   "source": [
    "prompt = ChatPromptTemplate.from_template(  \n",
    "    \"\"\"\n",
    "        Ты - ассистент, отвечающий на вопросы на основе предоставленного контекста. \n",
    "        Отвечай подробно, но строго по информации из контекста. Если информации недостаточно, \n",
    "        скажи об этом.\n",
    "\n",
    "        Контекст: {context}\n",
    "\n",
    "        Вопрос: {question}\n",
    "        \n",
    "        Ответ:\n",
    "    \"\"\"\n",
    ")\n",
    "\n",
    "document_chain = create_stuff_documents_chain(llm, prompt)\n",
    "retriever = vectorstore.as_retriever()  # Ваш FAISS retriever"
   ]
  },
  {
   "cell_type": "code",
   "execution_count": null,
   "id": "ce47f20c-ac3b-4994-be18-1f86a8ce4b31",
   "metadata": {},
   "outputs": [],
   "source": []
  },
  {
   "cell_type": "code",
   "execution_count": null,
   "id": "9ceb3f9d-101e-4f15-b5c2-c8713e9ed56a",
   "metadata": {},
   "outputs": [],
   "source": []
  },
  {
   "cell_type": "code",
   "execution_count": null,
   "id": "6a80aae5-d154-45b3-a5f5-444e8041b9c6",
   "metadata": {},
   "outputs": [],
   "source": [
    "\n",
    "\n",
    "# Загрузка переменных окружения\n",
    "load_dotenv()\n",
    "\n",
    "class RAGPipeline:\n",
    "    def __init__(self, index_path, text_chunks):\n",
    "        # Инициализация модели и индекса\n",
    "        self.text_chunks = text_chunks\n",
    "        self.index = faiss.read_index(index_path)\n",
    "        self.llm = GigaChat(\n",
    "            credentials=os.getenv(\"GIGACHAT_CREDENTIALS\"),\n",
    "            verify_ssl_certs=False,\n",
    "            temperature=0.3,\n",
    "            model='GigaChat:latest'\n",
    "        )\n",
    "        \n",
    "        # Создание промпта\n",
    "        self.prompt = self._create_prompt_template()\n",
    "        \n",
    "        # Создание цепочки\n",
    "        self.qa_chain = self._create_qa_chain()\n",
    "\n",
    "    def _create_prompt_template(self):\n",
    "        template = \"\"\"\n",
    "        Ты - ассистент, отвечающий на вопросы на основе предоставленного контекста. \n",
    "        Отвечай подробно, но строго по информации из контекста. Если информации недостаточно, \n",
    "        скажи об этом.\n",
    "\n",
    "        Контекст: {context}\n",
    "\n",
    "        Вопрос: {question}\n",
    "        \n",
    "        Ответ:\n",
    "        \"\"\"\n",
    "        return PromptTemplate(\n",
    "            template=template,\n",
    "            input_variables=['context', 'question']\n",
    "        )\n",
    "\n",
    "    def _create_qa_chain(self):\n",
    "        # Создаем цепочку с кастомным промптом\n",
    "        return RetrievalQA.from_chain_type(\n",
    "            llm=self.llm,\n",
    "            chain_type='stuff',\n",
    "            retriever=self._create_faiss_retriever(),\n",
    "            chain_type_kwargs={'prompt': self.prompt}\n",
    "        )\n",
    "\n",
    "    def _create_faiss_retriever(self):\n",
    "        # Создаем кастомный ретривер для FAISS\n",
    "        from langchain_community.vectorstores import FAISS\n",
    "        from langchain_community.embeddings import HuggingFaceEmbeddings\n",
    "        \n",
    "        embeddings = HuggingFaceEmbeddings(\n",
    "            model_name='sentence-transformers/all-MiniLM-L6-v2'\n",
    "        )\n",
    "        \n",
    "        return FAISS(\n",
    "            embedding_function=embeddings,\n",
    "            index=self.index,\n",
    "            docstore=self._create_docstore()\n",
    "        ).as_retriever(search_kwargs={'k': 3})\n",
    "\n",
    "    def _create_docstore(self):\n",
    "        # Создаем хранилище документов с метаданными\n",
    "        from langchain.docstore import InMemoryDocstore\n",
    "        from langchain.schema import Document\n",
    "        \n",
    "        docs = [\n",
    "            Document(\n",
    "                page_content=text,\n",
    "                metadata={'source': f'doc_{i}'}\n",
    "            ) for i, text in enumerate(self.text_chunks)\n",
    "        ]\n",
    "        return InMemoryDocstore(\n",
    "            {str(i): doc for i, doc in enumerate(docs)}\n",
    "        )\n",
    "\n",
    "    def ask(self, question):\n",
    "        return self.qa_chain.run(question)"
   ]
  },
  {
   "cell_type": "code",
   "execution_count": null,
   "id": "919af989-b24a-4870-8ee2-4a248889df00",
   "metadata": {},
   "outputs": [],
   "source": []
  },
  {
   "cell_type": "code",
   "execution_count": null,
   "id": "22a99108-5c36-4c41-a9c3-d3e295415970",
   "metadata": {},
   "outputs": [],
   "source": []
  },
  {
   "cell_type": "code",
   "execution_count": 38,
   "id": "cd8e55b9-d195-42e8-b486-2f6cad3e1825",
   "metadata": {},
   "outputs": [
    {
     "ename": "NameError",
     "evalue": "name 'split_docs' is not defined",
     "output_type": "error",
     "traceback": [
      "\u001b[1;31m---------------------------------------------------------------------------\u001b[0m",
      "\u001b[1;31mNameError\u001b[0m                                 Traceback (most recent call last)",
      "File \u001b[1;32m<timed exec>:9\u001b[0m\n",
      "\u001b[1;31mNameError\u001b[0m: name 'split_docs' is not defined"
     ]
    }
   ],
   "source": [
    "%%time\n",
    "# model_name = \"sentence-transformers/paraphrase-multilingual-mpnet-base-v2\"\n",
    "model_name = 'all-MiniLM-L6-v2'\n",
    "model_kwargs = {'device': 'cpu'}\n",
    "encode_kwargs = {'normalize_embeddings': False}\n",
    "embedding = HuggingFaceEmbeddings(model_name=model_name,\n",
    "                                  model_kwargs=model_kwargs,\n",
    "                                  encode_kwargs=encode_kwargs)\n",
    "\n",
    "vector_store = FAISS.from_documents(split_docs, embedding=embedding)"
   ]
  },
  {
   "cell_type": "code",
   "execution_count": 36,
   "id": "6a6e432d-36e4-410f-ae06-efaa352294c8",
   "metadata": {},
   "outputs": [
    {
     "ename": "AttributeError",
     "evalue": "'numpy.ndarray' object has no attribute 'as_retriever'",
     "output_type": "error",
     "traceback": [
      "\u001b[1;31m---------------------------------------------------------------------------\u001b[0m",
      "\u001b[1;31mAttributeError\u001b[0m                            Traceback (most recent call last)",
      "Cell \u001b[1;32mIn[36], line 1\u001b[0m\n\u001b[1;32m----> 1\u001b[0m \u001b[43mchunk_embeddings\u001b[49m\u001b[38;5;241;43m.\u001b[39;49m\u001b[43mas_retriever\u001b[49m(search_kwargs\u001b[38;5;241m=\u001b[39m{\u001b[38;5;124m\"\u001b[39m\u001b[38;5;124mk\u001b[39m\u001b[38;5;124m\"\u001b[39m: \u001b[38;5;241m5\u001b[39m})\n",
      "\u001b[1;31mAttributeError\u001b[0m: 'numpy.ndarray' object has no attribute 'as_retriever'"
     ]
    }
   ],
   "source": [
    "chunk_embeddings.as_retriever(search_kwargs={\"k\": 5}"
   ]
  },
  {
   "cell_type": "code",
   "execution_count": 35,
   "id": "594156f2-7f20-4364-bfb9-64c5d9bc734f",
   "metadata": {},
   "outputs": [],
   "source": [
    "from langchain.embeddings import HuggingFaceEmbeddings\n",
    "# from langchain.retrievers import BM25Retriever #, EnsembleRetriever\n",
    "from langchain.vectorstores.faiss import FAISS\n"
   ]
  },
  {
   "cell_type": "markdown",
   "id": "ea3a37e5-8bfe-4869-9bc8-aebe03c413fa",
   "metadata": {},
   "source": [
    "Индексация фрагментов для поиска"
   ]
  },
  {
   "cell_type": "code",
   "execution_count": 18,
   "id": "8e73fe14-8f7a-4d38-bc6a-d7284c2760b7",
   "metadata": {},
   "outputs": [
    {
     "name": "stdout",
     "output_type": "stream",
     "text": [
      "Индексы найденных фрагментов: [[67 23  2]]\n",
      "['N 282 guap.ru Слайд 46/47 Спасибо за внимание! Вопросы? guap.ru', 'Показа- тели защищенности от несанкционированного доступа к информации - Руководящий документ Защита от несанкционированного доступа к информации Часть 1 Программное обеспечение средств защиты информации Классификация по уровню контроля отсутствия недекларированных возможностей - Приказ от 18.02.2013 №21 «Состав и содержание организационных и технических мер по обеспечению безопасности ПДн при их обработке в ИСПДн» - Приказ от 11.02.2013 №17 «Требования о защите информации, не составляющей государственную тайну, содержащейся в государственных информационных системах»', 'сохранение в тайне от субъектов, не имеющих полномочий на ознакомление с ней), целостность и доступность информации при ее обработке техническими средствами Доступ к информации, составляющей коммерческую тайну, (санкционированный) - возможность получения и использования информации, составляющей коммерческую тайну, с согласия ее обладателя или на ином законном основании при условии сохранения конфиденциальности этой информации Несанкционированный доступ к информации, составляющей коммерческую тайну - доступ к информации, составляющей коммерческую тайну, с нарушением установленных обладателем коммерческой информации прав или правил доступа к защищаемой информации с помощью программных или программно-технических средств']\n"
     ]
    }
   ],
   "source": [
    "import faiss\n",
    "import numpy as np\n",
    "\n",
    "# Создаем индекс для поиска\n",
    "dimension = chunk_embeddings.shape[1]  # Размерность векторов\n",
    "index = faiss.IndexFlatL2(dimension)  # Используем метрику L2\n",
    "\n",
    "# Добавляем векторы в индекс\n",
    "index.add(np.array(chunk_embeddings))\n",
    "\n",
    "# Пример поиска ближайших векторов к запросу\n",
    "query = \"Что такое коммерческая тайна?\"\n",
    "query_embedding = model.encode([query])\n",
    "\n",
    "# Ищем ближайшие фрагменты\n",
    "D, I = index.search(query_embedding, k=3)  # k - количество результатов\n",
    "print(f\"Индексы найденных фрагментов: {I}\")\n",
    "print([chunks[i] for i in I[0]])  # Фрагменты текста\n"
   ]
  },
  {
   "cell_type": "code",
   "execution_count": 27,
   "id": "1f713c80-93c8-417e-a70c-be3ecfdec1a9",
   "metadata": {},
   "outputs": [],
   "source": [
    "from langchain.chains.combine_documents import create_stuff_documents_chain\n",
    "from langchain_core.prompts import ChatPromptTemplate, PromptTemplate\n",
    "from langchain.chat_models.gigachat import GigaChat\n",
    "from langchain.chains import create_retrieval_chain, LLMChain"
   ]
  },
  {
   "cell_type": "code",
   "execution_count": 20,
   "id": "bb701a61-1cae-429c-a323-cad84890a0a7",
   "metadata": {},
   "outputs": [
    {
     "name": "stdout",
     "output_type": "stream",
     "text": [
      "Collecting langchain-community\n",
      "  Obtaining dependency information for langchain-community from https://files.pythonhosted.org/packages/7e/31/39c30cab465774835e2c18d3746587e6fd0c9f7265b1c6b1fcd2e1684dd2/langchain_community-0.3.17-py3-none-any.whl.metadata\n",
      "  Downloading langchain_community-0.3.17-py3-none-any.whl.metadata (2.4 kB)\n",
      "Collecting langchain-core<1.0.0,>=0.3.34 (from langchain-community)\n",
      "  Obtaining dependency information for langchain-core<1.0.0,>=0.3.34 from https://files.pythonhosted.org/packages/94/63/be67b8ab4f4cf07b8da65a67ff72ea870ec8cf9f2e95e3a5b837a5604d1b/langchain_core-0.3.35-py3-none-any.whl.metadata\n",
      "  Downloading langchain_core-0.3.35-py3-none-any.whl.metadata (5.9 kB)\n",
      "Collecting langchain<1.0.0,>=0.3.18 (from langchain-community)\n",
      "  Obtaining dependency information for langchain<1.0.0,>=0.3.18 from https://files.pythonhosted.org/packages/93/83/a4b41a1cf8b22fd708104d50edf98b720aa28647d3083d83b8348927a786/langchain-0.3.18-py3-none-any.whl.metadata\n",
      "  Downloading langchain-0.3.18-py3-none-any.whl.metadata (7.8 kB)\n",
      "Requirement already satisfied: SQLAlchemy<3,>=1.4 in d:\\ragfootball\\.venv\\lib\\site-packages (from langchain-community) (2.0.38)\n",
      "Requirement already satisfied: requests<3,>=2 in d:\\ragfootball\\.venv\\lib\\site-packages (from langchain-community) (2.32.3)\n",
      "Requirement already satisfied: PyYAML>=5.3 in d:\\ragfootball\\.venv\\lib\\site-packages (from langchain-community) (6.0.2)\n",
      "Requirement already satisfied: aiohttp<4.0.0,>=3.8.3 in d:\\ragfootball\\.venv\\lib\\site-packages (from langchain-community) (3.11.12)\n",
      "Requirement already satisfied: tenacity!=8.4.0,<10,>=8.1.0 in d:\\ragfootball\\.venv\\lib\\site-packages (from langchain-community) (8.5.0)\n",
      "Collecting dataclasses-json<0.7,>=0.5.7 (from langchain-community)\n",
      "  Obtaining dependency information for dataclasses-json<0.7,>=0.5.7 from https://files.pythonhosted.org/packages/c3/be/d0d44e092656fe7a06b55e6103cbce807cdbdee17884a5367c68c9860853/dataclasses_json-0.6.7-py3-none-any.whl.metadata\n",
      "  Downloading dataclasses_json-0.6.7-py3-none-any.whl.metadata (25 kB)\n",
      "Collecting pydantic-settings<3.0.0,>=2.4.0 (from langchain-community)\n",
      "  Obtaining dependency information for pydantic-settings<3.0.0,>=2.4.0 from https://files.pythonhosted.org/packages/b4/46/93416fdae86d40879714f72956ac14df9c7b76f7d41a4d68aa9f71a0028b/pydantic_settings-2.7.1-py3-none-any.whl.metadata\n",
      "  Downloading pydantic_settings-2.7.1-py3-none-any.whl.metadata (3.5 kB)\n",
      "Requirement already satisfied: langsmith<0.4,>=0.1.125 in d:\\ragfootball\\.venv\\lib\\site-packages (from langchain-community) (0.1.147)\n",
      "Collecting httpx-sse<1.0.0,>=0.4.0 (from langchain-community)\n",
      "  Obtaining dependency information for httpx-sse<1.0.0,>=0.4.0 from https://files.pythonhosted.org/packages/e1/9b/a181f281f65d776426002f330c31849b86b31fc9d848db62e16f03ff739f/httpx_sse-0.4.0-py3-none-any.whl.metadata\n",
      "  Downloading httpx_sse-0.4.0-py3-none-any.whl.metadata (9.0 kB)\n",
      "Requirement already satisfied: numpy<3,>=1.26.2 in d:\\ragfootball\\.venv\\lib\\site-packages (from langchain-community) (1.26.4)\n",
      "Requirement already satisfied: aiohappyeyeballs>=2.3.0 in d:\\ragfootball\\.venv\\lib\\site-packages (from aiohttp<4.0.0,>=3.8.3->langchain-community) (2.4.6)\n",
      "Requirement already satisfied: aiosignal>=1.1.2 in d:\\ragfootball\\.venv\\lib\\site-packages (from aiohttp<4.0.0,>=3.8.3->langchain-community) (1.3.2)\n",
      "Requirement already satisfied: attrs>=17.3.0 in d:\\ragfootball\\.venv\\lib\\site-packages (from aiohttp<4.0.0,>=3.8.3->langchain-community) (25.1.0)\n",
      "Requirement already satisfied: frozenlist>=1.1.1 in d:\\ragfootball\\.venv\\lib\\site-packages (from aiohttp<4.0.0,>=3.8.3->langchain-community) (1.5.0)\n",
      "Requirement already satisfied: multidict<7.0,>=4.5 in d:\\ragfootball\\.venv\\lib\\site-packages (from aiohttp<4.0.0,>=3.8.3->langchain-community) (6.1.0)\n",
      "Requirement already satisfied: propcache>=0.2.0 in d:\\ragfootball\\.venv\\lib\\site-packages (from aiohttp<4.0.0,>=3.8.3->langchain-community) (0.2.1)\n",
      "Requirement already satisfied: yarl<2.0,>=1.17.0 in d:\\ragfootball\\.venv\\lib\\site-packages (from aiohttp<4.0.0,>=3.8.3->langchain-community) (1.18.3)\n",
      "Collecting marshmallow<4.0.0,>=3.18.0 (from dataclasses-json<0.7,>=0.5.7->langchain-community)\n",
      "  Obtaining dependency information for marshmallow<4.0.0,>=3.18.0 from https://files.pythonhosted.org/packages/34/75/51952c7b2d3873b44a0028b1bd26a25078c18f92f256608e8d1dc61b39fd/marshmallow-3.26.1-py3-none-any.whl.metadata\n",
      "  Downloading marshmallow-3.26.1-py3-none-any.whl.metadata (7.3 kB)\n",
      "Collecting typing-inspect<1,>=0.4.0 (from dataclasses-json<0.7,>=0.5.7->langchain-community)\n",
      "  Obtaining dependency information for typing-inspect<1,>=0.4.0 from https://files.pythonhosted.org/packages/65/f3/107a22063bf27bdccf2024833d3445f4eea42b2e598abfbd46f6a63b6cb0/typing_inspect-0.9.0-py3-none-any.whl.metadata\n",
      "  Downloading typing_inspect-0.9.0-py3-none-any.whl.metadata (1.5 kB)\n",
      "Collecting langchain-text-splitters<1.0.0,>=0.3.6 (from langchain<1.0.0,>=0.3.18->langchain-community)\n",
      "  Obtaining dependency information for langchain-text-splitters<1.0.0,>=0.3.6 from https://files.pythonhosted.org/packages/4c/f8/6b82af988e65af9697f6a2f25373fb173fd32d48b62772a8773c5184c870/langchain_text_splitters-0.3.6-py3-none-any.whl.metadata\n",
      "  Downloading langchain_text_splitters-0.3.6-py3-none-any.whl.metadata (1.9 kB)\n",
      "Requirement already satisfied: pydantic<3.0.0,>=2.7.4 in d:\\ragfootball\\.venv\\lib\\site-packages (from langchain<1.0.0,>=0.3.18->langchain-community) (2.10.6)\n",
      "Requirement already satisfied: jsonpatch<2.0,>=1.33 in d:\\ragfootball\\.venv\\lib\\site-packages (from langchain-core<1.0.0,>=0.3.34->langchain-community) (1.33)\n",
      "Requirement already satisfied: packaging<25,>=23.2 in d:\\ragfootball\\.venv\\lib\\site-packages (from langchain-core<1.0.0,>=0.3.34->langchain-community) (24.2)\n",
      "Requirement already satisfied: typing-extensions>=4.7 in d:\\ragfootball\\.venv\\lib\\site-packages (from langchain-core<1.0.0,>=0.3.34->langchain-community) (4.12.2)\n",
      "Requirement already satisfied: httpx<1,>=0.23.0 in d:\\ragfootball\\.venv\\lib\\site-packages (from langsmith<0.4,>=0.1.125->langchain-community) (0.27.2)\n",
      "Requirement already satisfied: orjson<4.0.0,>=3.9.14 in d:\\ragfootball\\.venv\\lib\\site-packages (from langsmith<0.4,>=0.1.125->langchain-community) (3.10.15)\n",
      "Requirement already satisfied: requests-toolbelt<2.0.0,>=1.0.0 in d:\\ragfootball\\.venv\\lib\\site-packages (from langsmith<0.4,>=0.1.125->langchain-community) (1.0.0)\n",
      "Collecting python-dotenv>=0.21.0 (from pydantic-settings<3.0.0,>=2.4.0->langchain-community)\n",
      "  Obtaining dependency information for python-dotenv>=0.21.0 from https://files.pythonhosted.org/packages/6a/3e/b68c118422ec867fa7ab88444e1274aa40681c606d59ac27de5a5588f082/python_dotenv-1.0.1-py3-none-any.whl.metadata\n",
      "  Downloading python_dotenv-1.0.1-py3-none-any.whl.metadata (23 kB)\n",
      "Requirement already satisfied: charset-normalizer<4,>=2 in d:\\ragfootball\\.venv\\lib\\site-packages (from requests<3,>=2->langchain-community) (3.4.1)\n",
      "Requirement already satisfied: idna<4,>=2.5 in d:\\ragfootball\\.venv\\lib\\site-packages (from requests<3,>=2->langchain-community) (3.10)\n",
      "Requirement already satisfied: urllib3<3,>=1.21.1 in d:\\ragfootball\\.venv\\lib\\site-packages (from requests<3,>=2->langchain-community) (2.3.0)\n",
      "Requirement already satisfied: certifi>=2017.4.17 in d:\\ragfootball\\.venv\\lib\\site-packages (from requests<3,>=2->langchain-community) (2025.1.31)\n",
      "Requirement already satisfied: greenlet!=0.4.17 in d:\\ragfootball\\.venv\\lib\\site-packages (from SQLAlchemy<3,>=1.4->langchain-community) (3.1.1)\n",
      "Requirement already satisfied: anyio in d:\\ragfootball\\.venv\\lib\\site-packages (from httpx<1,>=0.23.0->langsmith<0.4,>=0.1.125->langchain-community) (4.8.0)\n",
      "Requirement already satisfied: httpcore==1.* in d:\\ragfootball\\.venv\\lib\\site-packages (from httpx<1,>=0.23.0->langsmith<0.4,>=0.1.125->langchain-community) (1.0.7)\n",
      "Requirement already satisfied: sniffio in d:\\ragfootball\\.venv\\lib\\site-packages (from httpx<1,>=0.23.0->langsmith<0.4,>=0.1.125->langchain-community) (1.3.1)\n",
      "Requirement already satisfied: h11<0.15,>=0.13 in d:\\ragfootball\\.venv\\lib\\site-packages (from httpcore==1.*->httpx<1,>=0.23.0->langsmith<0.4,>=0.1.125->langchain-community) (0.14.0)\n",
      "Requirement already satisfied: jsonpointer>=1.9 in d:\\ragfootball\\.venv\\lib\\site-packages (from jsonpatch<2.0,>=1.33->langchain-core<1.0.0,>=0.3.34->langchain-community) (3.0.0)\n",
      "Requirement already satisfied: annotated-types>=0.6.0 in d:\\ragfootball\\.venv\\lib\\site-packages (from pydantic<3.0.0,>=2.7.4->langchain<1.0.0,>=0.3.18->langchain-community) (0.7.0)\n",
      "Requirement already satisfied: pydantic-core==2.27.2 in d:\\ragfootball\\.venv\\lib\\site-packages (from pydantic<3.0.0,>=2.7.4->langchain<1.0.0,>=0.3.18->langchain-community) (2.27.2)\n",
      "Collecting mypy-extensions>=0.3.0 (from typing-inspect<1,>=0.4.0->dataclasses-json<0.7,>=0.5.7->langchain-community)\n",
      "  Obtaining dependency information for mypy-extensions>=0.3.0 from https://files.pythonhosted.org/packages/2a/e2/5d3f6ada4297caebe1a2add3b126fe800c96f56dbe5d1988a2cbe0b267aa/mypy_extensions-1.0.0-py3-none-any.whl.metadata\n",
      "  Downloading mypy_extensions-1.0.0-py3-none-any.whl.metadata (1.1 kB)\n",
      "Downloading langchain_community-0.3.17-py3-none-any.whl (2.5 MB)\n",
      "   ---------------------------------------- 0.0/2.5 MB ? eta -:--:--\n",
      "    --------------------------------------- 0.1/2.5 MB 1.7 MB/s eta 0:00:02\n",
      "   -- ------------------------------------- 0.2/2.5 MB 2.6 MB/s eta 0:00:01\n",
      "   ------ --------------------------------- 0.4/2.5 MB 3.4 MB/s eta 0:00:01\n",
      "   ----------- ---------------------------- 0.7/2.5 MB 4.3 MB/s eta 0:00:01\n",
      "   --------------- ------------------------ 1.0/2.5 MB 4.7 MB/s eta 0:00:01\n",
      "   --------------- ------------------------ 1.0/2.5 MB 3.7 MB/s eta 0:00:01\n",
      "   ------------------ --------------------- 1.2/2.5 MB 4.1 MB/s eta 0:00:01\n",
      "   ------------------------------- -------- 2.0/2.5 MB 5.6 MB/s eta 0:00:01\n",
      "   ---------------------------------------  2.5/2.5 MB 6.2 MB/s eta 0:00:01\n",
      "   ---------------------------------------- 2.5/2.5 MB 5.9 MB/s eta 0:00:00\n",
      "Downloading dataclasses_json-0.6.7-py3-none-any.whl (28 kB)\n",
      "Downloading httpx_sse-0.4.0-py3-none-any.whl (7.8 kB)\n",
      "Downloading langchain-0.3.18-py3-none-any.whl (1.0 MB)\n",
      "   ---------------------------------------- 0.0/1.0 MB ? eta -:--:--\n",
      "   -------------- ------------------------- 0.4/1.0 MB 23.2 MB/s eta 0:00:01\n",
      "   -------------- ------------------------- 0.4/1.0 MB 23.2 MB/s eta 0:00:01\n",
      "   ---------------------------------------- 1.0/1.0 MB 8.0 MB/s eta 0:00:00\n",
      "Downloading langchain_core-0.3.35-py3-none-any.whl (413 kB)\n",
      "   ---------------------------------------- 0.0/413.2 kB ? eta -:--:--\n",
      "   ------------- -------------------------- 143.4/413.2 kB 8.3 MB/s eta 0:00:01\n",
      "   ---------------------------------------- 413.2/413.2 kB 5.2 MB/s eta 0:00:00\n",
      "Downloading pydantic_settings-2.7.1-py3-none-any.whl (29 kB)\n",
      "Downloading langchain_text_splitters-0.3.6-py3-none-any.whl (31 kB)\n",
      "Downloading marshmallow-3.26.1-py3-none-any.whl (50 kB)\n",
      "   ---------------------------------------- 0.0/50.9 kB ? eta -:--:--\n",
      "   ---------------------------------------- 50.9/50.9 kB ? eta 0:00:00\n",
      "Downloading python_dotenv-1.0.1-py3-none-any.whl (19 kB)\n",
      "Downloading typing_inspect-0.9.0-py3-none-any.whl (8.8 kB)\n",
      "Downloading mypy_extensions-1.0.0-py3-none-any.whl (4.7 kB)\n",
      "Installing collected packages: python-dotenv, mypy-extensions, marshmallow, httpx-sse, typing-inspect, pydantic-settings, dataclasses-json, langchain-core, langchain-text-splitters, langchain, langchain-community\n",
      "Successfully installed dataclasses-json-0.6.7 httpx-sse-0.4.0 langchain-0.3.18 langchain-community-0.3.17 langchain-core-0.3.35 langchain-text-splitters-0.3.6 marshmallow-3.26.1 mypy-extensions-1.0.0 pydantic-settings-2.7.1 python-dotenv-1.0.1 typing-inspect-0.9.0\n"
     ]
    },
    {
     "name": "stderr",
     "output_type": "stream",
     "text": [
      "\n",
      "[notice] A new release of pip is available: 23.2.1 -> 25.0.1\n",
      "[notice] To update, run: python.exe -m pip install --upgrade pip\n"
     ]
    }
   ],
   "source": [
    "!pip install -U langchain-community"
   ]
  },
  {
   "cell_type": "code",
   "execution_count": 22,
   "id": "c13bd1f5-e2a6-4e6e-8199-44d3b025d75f",
   "metadata": {},
   "outputs": [
    {
     "name": "stderr",
     "output_type": "stream",
     "text": [
      "C:\\Users\\maxnn\\AppData\\Local\\Temp\\ipykernel_4008\\2472902150.py:1: LangChainDeprecationWarning: The class `GigaChat` was deprecated in LangChain 0.3.5 and will be removed in 1.0. An updated version of the class exists in the langchain-gigachat package and should be used instead. To use it run `pip install -U langchain-gigachat` and import as `from langchain_gigachat import GigaChat`.\n",
      "  llm = GigaChat(credentials='YTUxZDMzOGMtNzZhOC00NTk5LThhNzQtZDZiMDc1ZGE3ZmUwOjEzYTVlM2IyLTUxZTEtNGY0Mi04OTE2LTE3MjZjMzAwNzlhZA==',\n"
     ]
    }
   ],
   "source": [
    "llm = GigaChat(credentials='',\n",
    "              model='GigaChat:latest',\n",
    "               verify_ssl_certs=False,\n",
    "               profanity_check=False)\n",
    "prompt = ChatPromptTemplate.from_template('''Ответь на вопрос пользователя. \\\n",
    "Используй при этом только информацию из контекста. Если в контексте нет \\\n",
    "информации для ответа, сообщи об этом пользователю.\n",
    "Контекст: {context}\n",
    "Вопрос: {question}\n",
    "Ответ:'''\n",
    ")"
   ]
  },
  {
   "cell_type": "code",
   "execution_count": 29,
   "id": "0c426b79-76dc-42f2-a8f8-1e3f88d19f9d",
   "metadata": {},
   "outputs": [
    {
     "ename": "ValidationError",
     "evalue": "1 validation error for PromptTemplate\n__root__\n  expected str, got ChatPromptTemplate (type=type_error)",
     "output_type": "error",
     "traceback": [
      "\u001b[1;31m---------------------------------------------------------------------------\u001b[0m",
      "\u001b[1;31mValidationError\u001b[0m                           Traceback (most recent call last)",
      "Cell \u001b[1;32mIn[29], line 1\u001b[0m\n\u001b[1;32m----> 1\u001b[0m prompt \u001b[38;5;241m=\u001b[39m \u001b[43mPromptTemplate\u001b[49m\u001b[43m(\u001b[49m\n\u001b[0;32m      2\u001b[0m \u001b[43m    \u001b[49m\u001b[43minput_variables\u001b[49m\u001b[38;5;241;43m=\u001b[39;49m\u001b[43m[\u001b[49m\u001b[38;5;124;43m\"\u001b[39;49m\u001b[38;5;124;43mquestion\u001b[39;49m\u001b[38;5;124;43m\"\u001b[39;49m\u001b[43m]\u001b[49m\u001b[43m,\u001b[49m\n\u001b[0;32m      3\u001b[0m \u001b[43m    \u001b[49m\u001b[43mtemplate\u001b[49m\u001b[38;5;241;43m=\u001b[39;49m\u001b[43mprompt\u001b[49m\u001b[43m,\u001b[49m\n\u001b[0;32m      4\u001b[0m \u001b[43m)\u001b[49m\n",
      "File \u001b[1;32mD:\\RAGFootball\\.venv\\Lib\\site-packages\\langchain_core\\load\\serializable.py:113\u001b[0m, in \u001b[0;36m__init__\u001b[1;34m(self, *args, **kwargs)\u001b[0m\n\u001b[0;32m    100\u001b[0m \u001b[38;5;28;01mclass\u001b[39;00m\u001b[38;5;250m \u001b[39m\u001b[38;5;21;01mSerializable\u001b[39;00m(BaseModel, ABC):\n\u001b[0;32m    101\u001b[0m \u001b[38;5;250m    \u001b[39m\u001b[38;5;124;03m\"\"\"Serializable base class.\u001b[39;00m\n\u001b[0;32m    102\u001b[0m \n\u001b[0;32m    103\u001b[0m \u001b[38;5;124;03m    This class is used to serialize objects to JSON.\u001b[39;00m\n\u001b[0;32m    104\u001b[0m \n\u001b[0;32m    105\u001b[0m \u001b[38;5;124;03m    It relies on the following methods and properties:\u001b[39;00m\n\u001b[0;32m    106\u001b[0m \n\u001b[0;32m    107\u001b[0m \u001b[38;5;124;03m    - `is_lc_serializable`: Is this class serializable?\u001b[39;00m\n\u001b[0;32m    108\u001b[0m \u001b[38;5;124;03m        By design, even if a class inherits from Serializable, it is not serializable by\u001b[39;00m\n\u001b[0;32m    109\u001b[0m \u001b[38;5;124;03m        default. This is to prevent accidental serialization of objects that should not\u001b[39;00m\n\u001b[0;32m    110\u001b[0m \u001b[38;5;124;03m        be serialized.\u001b[39;00m\n\u001b[0;32m    111\u001b[0m \u001b[38;5;124;03m    - `get_lc_namespace`: Get the namespace of the langchain object.\u001b[39;00m\n\u001b[0;32m    112\u001b[0m \u001b[38;5;124;03m        During deserialization, this namespace is used to identify\u001b[39;00m\n\u001b[1;32m--> 113\u001b[0m \u001b[38;5;124;03m        the correct class to instantiate.\u001b[39;00m\n\u001b[0;32m    114\u001b[0m \u001b[38;5;124;03m        Please see the `Reviver` class in `langchain_core.load.load` for more details.\u001b[39;00m\n\u001b[0;32m    115\u001b[0m \u001b[38;5;124;03m        During deserialization an additional mapping is handle\u001b[39;00m\n\u001b[0;32m    116\u001b[0m \u001b[38;5;124;03m        classes that have moved or been renamed across package versions.\u001b[39;00m\n\u001b[0;32m    117\u001b[0m \u001b[38;5;124;03m    - `lc_secrets`: A map of constructor argument names to secret ids.\u001b[39;00m\n\u001b[0;32m    118\u001b[0m \u001b[38;5;124;03m    - `lc_attributes`: List of additional attribute names that should be included\u001b[39;00m\n\u001b[0;32m    119\u001b[0m \u001b[38;5;124;03m        as part of the serialized representation.\u001b[39;00m\n\u001b[0;32m    120\u001b[0m \u001b[38;5;124;03m    \"\"\"\u001b[39;00m\n\u001b[0;32m    122\u001b[0m     \u001b[38;5;66;03m# Remove default BaseModel init docstring.\u001b[39;00m\n\u001b[0;32m    123\u001b[0m     \u001b[38;5;28;01mdef\u001b[39;00m\u001b[38;5;250m \u001b[39m\u001b[38;5;21m__init__\u001b[39m(\u001b[38;5;28mself\u001b[39m, \u001b[38;5;241m*\u001b[39margs: Any, \u001b[38;5;241m*\u001b[39m\u001b[38;5;241m*\u001b[39mkwargs: Any) \u001b[38;5;241m-\u001b[39m\u001b[38;5;241m>\u001b[39m \u001b[38;5;28;01mNone\u001b[39;00m:\n",
      "File \u001b[1;32mD:\\RAGFootball\\.venv\\Lib\\site-packages\\pydantic\\v1\\main.py:341\u001b[0m, in \u001b[0;36mBaseModel.__init__\u001b[1;34m(__pydantic_self__, **data)\u001b[0m\n\u001b[0;32m    339\u001b[0m values, fields_set, validation_error \u001b[38;5;241m=\u001b[39m validate_model(__pydantic_self__\u001b[38;5;241m.\u001b[39m\u001b[38;5;18m__class__\u001b[39m, data)\n\u001b[0;32m    340\u001b[0m \u001b[38;5;28;01mif\u001b[39;00m validation_error:\n\u001b[1;32m--> 341\u001b[0m     \u001b[38;5;28;01mraise\u001b[39;00m validation_error\n\u001b[0;32m    342\u001b[0m \u001b[38;5;28;01mtry\u001b[39;00m:\n\u001b[0;32m    343\u001b[0m     object_setattr(__pydantic_self__, \u001b[38;5;124m'\u001b[39m\u001b[38;5;124m__dict__\u001b[39m\u001b[38;5;124m'\u001b[39m, values)\n",
      "\u001b[1;31mValidationError\u001b[0m: 1 validation error for PromptTemplate\n__root__\n  expected str, got ChatPromptTemplate (type=type_error)"
     ]
    }
   ],
   "source": [
    "prompt = PromptTemplate(\n",
    "    input_variables=[\"question\"],\n",
    "    template=prompt,\n",
    ")"
   ]
  },
  {
   "cell_type": "code",
   "execution_count": 24,
   "id": "38905e51-a93d-4d27-b7b3-f014b5ccfbe1",
   "metadata": {},
   "outputs": [
    {
     "name": "stderr",
     "output_type": "stream",
     "text": [
      "C:\\Users\\maxnn\\AppData\\Local\\Temp\\ipykernel_4008\\4280171018.py:1: LangChainDeprecationWarning: The class `LLMChain` was deprecated in LangChain 0.1.17 and will be removed in 1.0. Use RunnableSequence, e.g., `prompt | llm` instead.\n",
      "  qa_chain = LLMChain(\n"
     ]
    }
   ],
   "source": [
    "qa_chain = LLMChain(\n",
    "    llm=llm,\n",
    "    prompt=prompt,\n",
    ")"
   ]
  },
  {
   "cell_type": "code",
   "execution_count": 25,
   "id": "82f0b139-fb02-4161-b6c6-91130b3bcfee",
   "metadata": {},
   "outputs": [
    {
     "name": "stdout",
     "output_type": "stream",
     "text": [
      "The history saving thread hit an unexpected error (OperationalError('database or disk is full')).History will not be written to the database.\n"
     ]
    },
    {
     "ename": "NameError",
     "evalue": "name 'embedding_retriever' is not defined",
     "output_type": "error",
     "traceback": [
      "\u001b[1;31m---------------------------------------------------------------------------\u001b[0m",
      "\u001b[1;31mNameError\u001b[0m                                 Traceback (most recent call last)",
      "Cell \u001b[1;32mIn[25], line 1\u001b[0m\n\u001b[1;32m----> 1\u001b[0m retrieval_chain \u001b[38;5;241m=\u001b[39m create_retrieval_chain(\u001b[43membedding_retriever\u001b[49m, document_chain)\n",
      "\u001b[1;31mNameError\u001b[0m: name 'embedding_retriever' is not defined"
     ]
    }
   ],
   "source": [
    "retrieval_chain = create_retrieval_chain(embedding_retriever, document_chain)"
   ]
  },
  {
   "cell_type": "code",
   "execution_count": null,
   "id": "20659d45-5077-4819-ae8c-ed2b128f9c30",
   "metadata": {},
   "outputs": [],
   "source": []
  }
 ],
 "metadata": {
  "kernelspec": {
   "display_name": "Python 3 (ipykernel)",
   "language": "python",
   "name": "python3"
  },
  "language_info": {
   "codemirror_mode": {
    "name": "ipython",
    "version": 3
   },
   "file_extension": ".py",
   "mimetype": "text/x-python",
   "name": "python",
   "nbconvert_exporter": "python",
   "pygments_lexer": "ipython3",
   "version": "3.12.4"
  }
 },
 "nbformat": 4,
 "nbformat_minor": 5
}
